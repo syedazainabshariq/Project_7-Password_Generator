{
  "nbformat": 4,
  "nbformat_minor": 0,
  "metadata": {
    "colab": {
      "provenance": [],
      "authorship_tag": "ABX9TyPd8sOUaCMc7bmwww2E431Z",
      "include_colab_link": true
    },
    "kernelspec": {
      "name": "python3",
      "display_name": "Python 3"
    },
    "language_info": {
      "name": "python"
    }
  },
  "cells": [
    {
      "cell_type": "markdown",
      "metadata": {
        "id": "view-in-github",
        "colab_type": "text"
      },
      "source": [
        "<a href=\"https://colab.research.google.com/github/syedazainabshariq/Project_7-Password_Generator/blob/main/Project_7.ipynb\" target=\"_parent\"><img src=\"https://colab.research.google.com/assets/colab-badge.svg\" alt=\"Open In Colab\"/></a>"
      ]
    },
    {
      "cell_type": "markdown",
      "source": [
        "# Project 7\n",
        "## Password Generator"
      ],
      "metadata": {
        "id": "FgGZBgB_mPuw"
      }
    },
    {
      "cell_type": "code",
      "execution_count": null,
      "metadata": {
        "colab": {
          "base_uri": "https://localhost:8080/"
        },
        "id": "WWyyg-QMmNvz",
        "outputId": "a1268cb9-e6bc-4150-d8c3-25df94be17eb"
      },
      "outputs": [
        {
          "output_type": "stream",
          "name": "stdout",
          "text": [
            "Welcome to the Password Generator!\n",
            "Enter the desired password length: 8\n",
            "Your generated password is: 2xsfYz`\n"
          ]
        }
      ],
      "source": [
        "import random\n",
        "import string\n",
        "\n",
        "def password_generator():\n",
        "    print(\"Welcome to the Password Generator!\")\n",
        "    try:\n",
        "\n",
        "        length = int(input(\"Enter the desired password length: \"))\n",
        "        if length < 6:\n",
        "            print(\"Password length should be at least 6 characters for better security.\")\n",
        "            return\n",
        "\n",
        "\n",
        "        letters = string.ascii_letters\n",
        "        digits = string.digits\n",
        "        symbols = string.punctuation\n",
        "\n",
        "        all_characters = letters + digits + symbols\n",
        "        password = [\n",
        "            random.choice(letters),\n",
        "            random.choice(digits),\n",
        "            # random.choice(symbols)\n",
        "        ]\n",
        "\n",
        "        password += random.choices(all_characters, k=length - 3)\n",
        "        random.shuffle(password)\n",
        "\n",
        "        final_password = ''.join(password)\n",
        "        print(f\"Your generated password is: {final_password}\")\n",
        "    except ValueError:\n",
        "        print(\"Invalid input. Please enter a valid number.\")\n",
        "\n",
        "\n",
        "password_generator()\n"
      ]
    }
  ]
}